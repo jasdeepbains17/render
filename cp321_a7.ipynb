{
 "cells": [
  {
   "cell_type": "code",
   "execution_count": 25,
   "metadata": {},
   "outputs": [
    {
     "data": {
      "text/html": [
       "\n",
       "        <iframe\n",
       "            width=\"100%\"\n",
       "            height=\"650\"\n",
       "            src=\"http://127.0.0.1:8050/\"\n",
       "            frameborder=\"0\"\n",
       "            allowfullscreen\n",
       "            \n",
       "        ></iframe>\n",
       "        "
      ],
      "text/plain": [
       "<IPython.lib.display.IFrame at 0x7fc70db41cd0>"
      ]
     },
     "metadata": {},
     "output_type": "display_data"
    }
   ],
   "source": [
    "import dash\n",
    "from dash import dcc, html, callback, Output, Input\n",
    "import plotly.express as px\n",
    "import pandas as pd\n",
    "\n",
    "countries_wins = pd.DataFrame({\n",
    "    \"Country\": [\"Brazil\", \"Germany\", \"Italy\", \"Argentina\", \"France\", \"Uruguay\", \"United Kingdom\", \"Spain\"],\n",
    "    \"Wins\": [5, 4, 4, 3, 2, 2, 1, 1]\n",
    "})\n",
    "worldcup_years = pd.DataFrame({\n",
    "    \"year\": [\"1930\", \"1934\", \"1938\", \"1950\", \"1954\", \"1958\", \"1962\", \"1966\", \"1970\", \"1974\", \"1978\", \"1982\", \"1986\", \"1990\", \"1994\", \"1998\", \"2002\", \"2006\", \"2010\", \"2014\", \"2018\", \"2022\"],\n",
    "    \"winners\": [\"Uruguay\", \"Italy\", \"Italy\", \"Uruguay\", \"West Germany\", \"Brazil\", \"Brazil\", \"England\", \"Brazil\", \"West Germany\", \"Argentina\",\n",
    "                \"Italy\", \"Argentina\", \"West Germany\", \"Brazil\", \"France\", \"Brazil\", \"Italy\", \"Spain\", \"Germany\", \"France\", \"Argentina\"],\n",
    "    \"runner ups\": [\"Argentina\", \"Czechoslovakia\", \"Hungary\", \"Brazil\", \"Hungary\", \"Sweden\", \"Czechoslovakia\", \"West Germany\", \"Italy\", \"Netherlands\",\n",
    "                \"Netherlands\", \"West Germany\", \"West Germany\", \"Argentina\", \"Italy\", \"Brazil\", \"Germany\", \"France\", \"Netherlands\", \"Argentina\", \"Croatia\", \"France\"]\n",
    "})\n",
    "\n",
    "fig = px.choropleth(\n",
    "    countries_wins,\n",
    "    locations=\"Country\",\n",
    "    locationmode=\"country names\",\n",
    "    color=\"Wins\",\n",
    "    color_continuous_scale=\"Viridis\",\n",
    "    scope=\"world\",\n",
    "    title=\"Map of FIFA World Cup Winners\"\n",
    ")\n",
    "\n",
    "app = dash.Dash()\n",
    "app.layout = [\n",
    "    html.H1(children=\"Fifa World Cup Winners\", style={'textAlign':'center'}),\n",
    "    dcc.Graph(figure=fig),\n",
    "    html.Br(),\n",
    "    html.Label(\"Select World Cup Year:\"),\n",
    "    dcc.Dropdown(worldcup_years.year, \"1930\", id=\"dropdown-selection\"),\n",
    "    dcc.Markdown(id=\"wc-results\", children=\" \")\n",
    "]\n",
    "\n",
    "@callback(\n",
    "    Output(component_id=\"wc-results\", component_property=\"children\"),\n",
    "    Input(component_id=\"dropdown-selection\", component_property=\"value\")\n",
    ")\n",
    "\n",
    "def update_markdown(year):\n",
    "    index = worldcup_years.index[worldcup_years[\"year\"] == year]\n",
    "    out_str = f'''\n",
    "    Winner: _**{worldcup_years['winners'].iloc[index].item()}**_ \n",
    "    \n",
    "    Runner Up: _{worldcup_years['runner ups'].iloc[index].item()}_\n",
    "    '''\n",
    "    return out_str\n",
    "\n",
    "if __name__ == '__main__':\n",
    "    app.run(debug=True)\n"
   ]
  }
 ],
 "metadata": {
  "kernelspec": {
   "display_name": "Python 3",
   "language": "python",
   "name": "python3"
  },
  "language_info": {
   "codemirror_mode": {
    "name": "ipython",
    "version": 3
   },
   "file_extension": ".py",
   "mimetype": "text/x-python",
   "name": "python",
   "nbconvert_exporter": "python",
   "pygments_lexer": "ipython3",
   "version": "3.9.7"
  },
  "orig_nbformat": 4
 },
 "nbformat": 4,
 "nbformat_minor": 2
}
